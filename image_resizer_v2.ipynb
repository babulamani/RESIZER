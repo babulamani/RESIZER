{
 "cells": [
  {
   "cell_type": "code",
   "execution_count": null,
   "metadata": {},
   "outputs": [],
   "source": [
    "from skimage import transform\n",
    "import numpy as np\n",
    "import random\n",
    "import cv2\n",
    "import os\n",
    "from time import sleep\n",
    "from tqdm import tqdm"
   ]
  },
  {
   "cell_type": "code",
   "execution_count": null,
   "metadata": {},
   "outputs": [],
   "source": [
    "def resize_image(image, min_dim=None, max_dim=None, mode=\"square\"):\n",
    "\n",
    "    h, w = image.shape[:2]\n",
    "    scale = 1\n",
    "    padding = [(0, 0), (0, 0), (0, 0)]\n",
    "    crop = None\n",
    "\n",
    "    # Scale?\n",
    "    if min_dim:\n",
    "        # Scale up but not down\n",
    "        scale = max(1, min_dim / min(h, w))\n",
    "\n",
    "    # Does it exceed max dim?\n",
    "    if max_dim and mode == \"square\":\n",
    "        image_max = max(h, w)\n",
    "        if round(image_max * scale) > max_dim:\n",
    "            scale = max_dim / image_max\n",
    "\n",
    "    # Resize image using bilinear interpolation\n",
    "    if scale < 1:\n",
    "        image = transform.resize(image, (round(h * scale), round(w * scale)), preserve_range=True)\n",
    "    if scale < 1:\n",
    "        pass\n",
    "    if scale == 1:\n",
    "        pass\n",
    "    \n",
    "    # Need padding or cropping?\n",
    "    if mode == \"square\":\n",
    "        # Get new height and width\n",
    "        h, w = image.shape[:2]\n",
    "        top_pad = (max_dim - h) // 2\n",
    "        bottom_pad = max_dim - h - top_pad\n",
    "        left_pad = (max_dim - w) // 2\n",
    "        right_pad = max_dim - w - left_pad\n",
    "        padding = [(top_pad, bottom_pad), (left_pad, right_pad), (0, 0)]\n",
    "        image = np.pad(image, padding, mode='constant', constant_values=0)    \n",
    "    return image"
   ]
  },
  {
   "cell_type": "code",
   "execution_count": null,
   "metadata": {},
   "outputs": [],
   "source": [
    "folder_path = 'C:/Users/LENOVO/Downloads/2400_dataset/dataset'\n",
    "target_path = 'C:/Users/LENOVO/Downloads/2400_dataset/resized'"
   ]
  },
  {
   "cell_type": "code",
   "execution_count": null,
   "metadata": {},
   "outputs": [],
   "source": [
    "for i, filename in zip(tqdm(range(len(os.listdir(folder_path))), desc= \"Converting...\"), os.listdir(folder_path)):\n",
    "    f = os.path.join(folder_path, filename)\n",
    "    image = cv2.imread(f)\n",
    "    new_image = resize_image(image, min_dim=512, max_dim=512, mode=\"square\")\n",
    "    cv2.imwrite(target_path + \"/\" + filename, new_image)"
   ]
  }
 ],
 "metadata": {
  "kernelspec": {
   "display_name": "Python 3.10.5 64-bit",
   "language": "python",
   "name": "python3"
  },
  "language_info": {
   "codemirror_mode": {
    "name": "ipython",
    "version": 3
   },
   "file_extension": ".py",
   "mimetype": "text/x-python",
   "name": "python",
   "nbconvert_exporter": "python",
   "pygments_lexer": "ipython3",
   "version": "3.10.5"
  },
  "orig_nbformat": 4,
  "vscode": {
   "interpreter": {
    "hash": "f2ccb58c476f33ba3e3aee7ac07234ef6b8217ef24ad64d2a7d4fed1a57c1cd2"
   }
  }
 },
 "nbformat": 4,
 "nbformat_minor": 2
}
